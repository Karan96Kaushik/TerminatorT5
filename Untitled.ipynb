{
 "cells": [
  {
   "cell_type": "code",
   "execution_count": 4,
   "id": "1ad8cd24",
   "metadata": {},
   "outputs": [],
   "source": [
    "import json\n",
    "import pandas as pd\n",
    "import numpy as np\n",
    "import torch\n",
    "from pathlib import Path\n"
   ]
  },
  {
   "cell_type": "code",
   "execution_count": 5,
   "id": "722f64ef",
   "metadata": {},
   "outputs": [
    {
     "name": "stdout",
     "output_type": "stream",
     "text": [
      "zsh:1: command not found: pip\n",
      "zsh:1: command not found: pip\n",
      "zsh:1: command not found: nvidia\n"
     ]
    }
   ],
   "source": [
    "# change the runtime and make sure it is set to GPU\n",
    "# if not then follow this\n",
    "# Runtime-> Change Runtime -> GPU\n",
    "# this will restart the runtime so make sure you do it at the start\n",
    "# hugging face transformers and pytorch lightning latest versions\n",
    "!pip install --quiet transformers==4.5.0\n",
    "!pip install --quiet pytorch-lightning==1.2.7\n",
    "# you can also check the type of GPU you \n",
    "# by running the following command\n",
    "!nvidia -smi\n",
    "'''\n",
    "json for reading html text\n",
    "pandas for df manipulation\n",
    "numpy for array operations\n",
    "torch for pytorch lightning\n",
    "empty cache utility\n",
    "'''\n",
    "\n",
    "torch.cuda.empty_cache()\n",
    "# path for data\n",
    "# dataset and dataloader for functions"
   ]
  },
  {
   "cell_type": "code",
   "execution_count": null,
   "id": "e089cd46",
   "metadata": {},
   "outputs": [],
   "source": [
    "from torch.utils.data import Dataset, DataLoader\n",
    "# lightning for data class\n",
    "import pytorch_lightning as pl\n",
    "# leveraging the model checkpoints\n",
    "from pytorch_lightning.callbacks import ModelCheckpoint\n",
    "# we can visualize performance of model\n",
    "from pytorch_lightning.loggers import TensorBoardLogger\n",
    "# splitting the data\n",
    "from sklearn.model_selection import train_test_split\n",
    "# color formatting in ANSII code for output in terminal\n",
    "from termcolor import colored\n",
    "# wraps the paragraph into a single line or string\n",
    "import textwrap\n",
    "# installing multiple utilities\n",
    "# including optimizer , tokenizer and generation module\n",
    "from transformers import (\n",
    " AdamW,\n",
    " T5ForConditionalGeneration,\n",
    " T5TokenizerFast as T5Tokenizer\n",
    ")\n",
    "# showing bars for processes in notebook\n",
    "from tqdm.auto import tqdm\n",
    "# seaborn for visualizing\n",
    "import seaborn as sns\n",
    "# procedural import to matplotlib\n",
    "from pylab import rcParams\n",
    "# graphs\n",
    "import matplotlib.pyplot as plt\n",
    "# rcParams for setting default values to all plots\n",
    "from matplotlib import rc\n",
    "# show graphs in the notebook cell\n",
    "\n"
   ]
  },
  {
   "cell_type": "code",
   "execution_count": 2,
   "id": "b6d992c3",
   "metadata": {},
   "outputs": [
    {
     "name": "stdout",
     "output_type": "stream",
     "text": [
      "zsh:1: command not found: pip\n",
      "zsh:1: command not found: pip\n",
      "zsh:1: command not found: nvidia\n"
     ]
    },
    {
     "ename": "ModuleNotFoundError",
     "evalue": "No module named 'pytorch_lightning'",
     "output_type": "error",
     "traceback": [
      "\u001b[0;31m---------------------------------------------------------------------------\u001b[0m",
      "\u001b[0;31mModuleNotFoundError\u001b[0m                       Traceback (most recent call last)",
      "Input \u001b[0;32mIn [2]\u001b[0m, in \u001b[0;36m<module>\u001b[0;34m\u001b[0m\n\u001b[1;32m     22\u001b[0m \u001b[38;5;28;01mfrom\u001b[39;00m \u001b[38;5;21;01mtorch\u001b[39;00m\u001b[38;5;21;01m.\u001b[39;00m\u001b[38;5;21;01mutils\u001b[39;00m\u001b[38;5;21;01m.\u001b[39;00m\u001b[38;5;21;01mdata\u001b[39;00m \u001b[38;5;28;01mimport\u001b[39;00m Dataset, DataLoader\n\u001b[1;32m     23\u001b[0m \u001b[38;5;66;03m# lightning for data class\u001b[39;00m\n\u001b[0;32m---> 24\u001b[0m \u001b[38;5;28;01mimport\u001b[39;00m \u001b[38;5;21;01mpytorch_lightning\u001b[39;00m \u001b[38;5;28;01mas\u001b[39;00m \u001b[38;5;21;01mpl\u001b[39;00m\n\u001b[1;32m     25\u001b[0m \u001b[38;5;66;03m# leveraging the model checkpoints\u001b[39;00m\n\u001b[1;32m     26\u001b[0m \u001b[38;5;28;01mfrom\u001b[39;00m \u001b[38;5;21;01mpytorch_lightning\u001b[39;00m\u001b[38;5;21;01m.\u001b[39;00m\u001b[38;5;21;01mcallbacks\u001b[39;00m \u001b[38;5;28;01mimport\u001b[39;00m ModelCheckpoint\n",
      "\u001b[0;31mModuleNotFoundError\u001b[0m: No module named 'pytorch_lightning'"
     ]
    }
   ],
   "source": [
    "%matplotlib inline\n",
    "# to render higher resolution images\n",
    "%config InlineBackend.figure_format='retina'\n",
    "# setting the default values for plots\n",
    "sns.set(style='whitegrid', palette='muted', font_scale=1.2)\n",
    "# make sure the fig size is not too big\n",
    "rcParams['figure.figsize'] = 16, 10\n",
    "# random pseudo numbers\n",
    "pl.seed_everything(42) "
   ]
  }
 ],
 "metadata": {
  "kernelspec": {
   "display_name": "Python 3 (ipykernel)",
   "language": "python",
   "name": "python3"
  },
  "language_info": {
   "codemirror_mode": {
    "name": "ipython",
    "version": 3
   },
   "file_extension": ".py",
   "mimetype": "text/x-python",
   "name": "python",
   "nbconvert_exporter": "python",
   "pygments_lexer": "ipython3",
   "version": "3.9.12"
  }
 },
 "nbformat": 4,
 "nbformat_minor": 5
}
